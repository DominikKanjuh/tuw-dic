{
 "cells": [
  {
   "cell_type": "code",
   "execution_count": 27,
   "id": "77c3128b-f7aa-4d64-bb17-e6847e771d81",
   "metadata": {},
   "outputs": [
    {
     "data": {
      "text/plain": [
       "import org.apache.spark.sql.{SparkSession, Row}\n",
       "import org.apache.spark.rdd.RDD\n",
       "import org.apache.spark.broadcast.Broadcast\n",
       "import scala.util.matching.Regex\n",
       "import scala.util.parsing.json._\n"
      ]
     },
     "execution_count": 27,
     "metadata": {},
     "output_type": "execute_result"
    }
   ],
   "source": [
    "import org.apache.spark.sql.{SparkSession, Row}\n",
    "import org.apache.spark.rdd.RDD\n",
    "import org.apache.spark.broadcast.Broadcast\n",
    "import scala.util.matching.Regex\n",
    "import scala.util.parsing.json._"
   ]
  },
  {
   "cell_type": "code",
   "execution_count": 28,
   "id": "61d8eb25-33e2-409b-a1a4-3f831dbffacc",
   "metadata": {},
   "outputs": [],
   "source": [
    "%%init_spark --stderr\n",
    "launcher.conf.spark.app.name = \"DIC\""
   ]
  },
  {
   "cell_type": "code",
   "execution_count": 29,
   "id": "cff01593-db86-4cd1-a055-a7e5dd0854c2",
   "metadata": {},
   "outputs": [
    {
     "name": "stdout",
     "output_type": "stream",
     "text": [
      "spark.app.name: spylon-kernel\n",
      "spark.master: yarn\n",
      "spark.submit.deployMode: client\n",
      "sc.defaultParallelism: 2\n"
     ]
    }
   ],
   "source": [
    "println(\"spark.app.name: \" + spark.conf.get(\"spark.app.name\"))\n",
    "println(\"spark.master: \" + spark.conf.get(\"spark.master\"))\n",
    "println(\"spark.submit.deployMode: \" + spark.conf.get(\"spark.submit.deployMode\"))\n",
    "println(\"sc.defaultParallelism: \" + sc.defaultParallelism)"
   ]
  },
  {
   "cell_type": "code",
   "execution_count": 30,
   "id": "7074c312-e083-4b88-ad2b-b353314fdfed",
   "metadata": {},
   "outputs": [
    {
     "data": {
      "text/plain": [
       "stopwords: org.apache.spark.broadcast.Broadcast[scala.collection.immutable.Set[String]] = Broadcast(37)\n",
       "DELIMS: String = [\\s()\\[\\]{}.!?,;:+=\\-_\"'`~#@&*%€$§\\/\\d]+\n",
       "tokenize: (text: String)Set[String]\n"
      ]
     },
     "execution_count": 30,
     "metadata": {},
     "output_type": "execute_result"
    }
   ],
   "source": [
    "val stopwords = sc.broadcast(sc.textFile(\"hdfs:///user/e12439016/stopwords.txt\")  \n",
    "  .collect() \n",
    "  .toSet)    \n",
    "val DELIMS = \"[\\\\s()\\\\[\\\\]{}.!?,;:+=\\\\-_\\\"'`~#@&*%€$§\\\\/\\\\d]+\"\n",
    "def tokenize(text: String): Set[String] = {\n",
    "  text.toLowerCase.split(DELIMS)\n",
    "    .filter(token => token.length > 1 && !stopwords.value.contains(token))\n",
    "    .toSet\n",
    "}"
   ]
  },
  {
   "cell_type": "code",
   "execution_count": 31,
   "id": "da03b7c6-d875-48a3-9137-3c9826956a6c",
   "metadata": {},
   "outputs": [
    {
     "data": {
      "text/plain": [
       "df: org.apache.spark.sql.DataFrame = [asin: string, category: string ... 8 more fields]\n",
       "reviews: org.apache.spark.rdd.RDD[org.apache.spark.sql.Row] = MapPartitionsRDD[65] at filter at <console>:51\n"
      ]
     },
     "execution_count": 31,
     "metadata": {},
     "output_type": "execute_result"
    }
   ],
   "source": [
    "val df = spark.read.json(\"hdfs:///user/dic25_shared/amazon-reviews/full/reviews_devset.json\")\n",
    "val reviews = df.rdd.filter(row => row.getAs[String](\"reviewText\") != null)"
   ]
  },
  {
   "cell_type": "code",
   "execution_count": 32,
   "id": "92f81e68-034e-4342-bf4b-503621b6c981",
   "metadata": {},
   "outputs": [
    {
     "data": {
      "text/plain": [
       "catText: org.apache.spark.rdd.RDD[(String, String)] = MapPartitionsRDD[66] at map at <console>:60\n",
       "termCatPairs: org.apache.spark.rdd.RDD[((String, String), Int)] = MapPartitionsRDD[67] at flatMap at <console>:67\n",
       "termCatCounts: org.apache.spark.rdd.RDD[((String, String), Int)] = ShuffledRDD[68] at reduceByKey at <console>:74\n",
       "termGrouped: org.apache.spark.rdd.RDD[(String, Iterable[(String, Int)])] = ShuffledRDD[70] at groupByKey at <console>:78\n",
       "docsPerCat: org.apache.spark.rdd.RDD[(String, Int)] = ShuffledRDD[72] at reduceByKey at <console>:83\n",
       "totalDocs: Long = 78829\n",
       "bcDocsPerCat: org.apache.spark.broadcast.Broadcast[scala.collection.Map[String,Int]] = Broadcast(44)\n",
       "bcTotalDocs: org.apache.spark.broadcast.Broadcast[Long] = Broadcast(45)\n",
       "globalTermCounts: org.apache.spark.rdd.RDD[(String, ...\n"
      ]
     },
     "execution_count": 32,
     "metadata": {},
     "output_type": "execute_result"
    }
   ],
   "source": [
    "\n",
    "// (1) (category, reviewText) \n",
    "val catText = reviews.map(row => {\n",
    "  val text = row.getAs[String](\"reviewText\")\n",
    "  val cat = row.getAs[String](\"category\")\n",
    "  (cat, text)\n",
    "})\n",
    "\n",
    "// (2) ((term, category), 1)\n",
    "val termCatPairs = catText.flatMap { case (cat, text) =>\n",
    "  text.toLowerCase.split(DELIMS)\n",
    "    .filter(token => token.length > 1 && !stopwords.value.contains(token))\n",
    "    .distinct\n",
    "    .map(token => ((token, cat), 1))\n",
    "}\n",
    "// (3) term per category\n",
    "val termCatCounts = termCatPairs.reduceByKey(_ + _)  // ((term, cat), count)\n",
    "\n",
    "// (4) group by term\n",
    "val termGrouped = termCatCounts\n",
    "  .map { case ((term, cat), count) => (term, (cat, count)) }\n",
    "  .groupByKey()\n",
    "\n",
    "// (5) document per category\n",
    "val docsPerCat = catText.map { case (cat, _) => (cat, 1) }\n",
    "  .reduceByKey(_ + _)  // (category, count)\n",
    "val totalDocs = docsPerCat.values.sum().toLong\n",
    "\n",
    "// (6) Broadcast \n",
    "val bcDocsPerCat = sc.broadcast(docsPerCat.collectAsMap())\n",
    "val bcTotalDocs = sc.broadcast(totalDocs)\n",
    "\n",
    "// (7) global term count\n",
    "val globalTermCounts = termCatPairs.map { case ((term, _), count) => (term, count) }\n",
    "  .reduceByKey(_ + _)  // (term, count)\n",
    "val bcGlobalTermCounts = sc.broadcast(globalTermCounts.collectAsMap())"
   ]
  },
  {
   "cell_type": "code",
   "execution_count": 33,
   "id": "50061f41-fc94-4d50-ba39-ee1a321936fe",
   "metadata": {},
   "outputs": [
    {
     "name": "stdout",
     "output_type": "stream",
     "text": [
      "(term, category): 272573\n"
     ]
    },
    {
     "data": {
      "text/plain": [
       "termCatCount: Long = 272573\n"
      ]
     },
     "execution_count": 33,
     "metadata": {},
     "output_type": "execute_result"
    }
   ],
   "source": [
    "val termCatCount = termCatPairs.distinct().count()\n",
    "println(s\"(term, category): $termCatCount\")\n"
   ]
  },
  {
   "cell_type": "code",
   "execution_count": 34,
   "id": "e0d49c68-61e2-4c66-9926-45f46ea111a7",
   "metadata": {},
   "outputs": [
    {
     "name": "stdout",
     "output_type": "stream",
     "text": [
      "96136\n"
     ]
    },
    {
     "data": {
      "text/plain": [
       "uniqueTermsCount: Long = 96136\n"
      ]
     },
     "execution_count": 34,
     "metadata": {},
     "output_type": "execute_result"
    }
   ],
   "source": [
    "val uniqueTermsCount = termCatPairs.map { case ((term, _), _) => term }.distinct().count()\n",
    "println(s\"$uniqueTermsCount\")\n"
   ]
  },
  {
   "cell_type": "code",
   "execution_count": 35,
   "id": "166d23c3-1787-4513-8edf-a88993eb5a8d",
   "metadata": {
    "scrolled": true
   },
   "outputs": [
    {
     "name": "stdout",
     "output_type": "stream",
     "text": [
      "((mezzos,Movies_and_TV),1)\n",
      "((huge,Cell_Phones_and_Accessorie),35)\n",
      "((goodwill,Electronic),2)\n",
      "((lit,Tools_and_Home_Improvement),13)\n",
      "((alittle,Health_and_Personal_Care),2)\n",
      "((aspca,Pet_Supplie),1)\n",
      "((alwasy,Book),1)\n",
      "((instructor,Movies_and_TV),11)\n",
      "((scales,Digital_Music),1)\n",
      "((upright,Automotive),2)\n"
     ]
    }
   ],
   "source": [
    "termCatCounts.take(10).foreach(println)"
   ]
  },
  {
   "cell_type": "code",
   "execution_count": 36,
   "id": "6f182a52-07aa-4a55-87b5-00b5877a0ec7",
   "metadata": {},
   "outputs": [
    {
     "name": "stdout",
     "output_type": "stream",
     "text": [
      "(Pet_Supplie,1235)\n",
      "(Movies_and_TV,4607)\n",
      "(Electronic,7825)\n",
      "(Office_Product,1243)\n",
      "(Musical_Instrument,500)\n",
      "(Cell_Phones_and_Accessorie,3447)\n",
      "(Clothing_Shoes_and_Jewelry,5749)\n",
      "(Tools_and_Home_Improvement,1926)\n",
      "(Baby,916)\n",
      "(Patio_Lawn_and_Garde,994)\n"
     ]
    }
   ],
   "source": [
    "docsPerCat.take(10).foreach(println)\n"
   ]
  },
  {
   "cell_type": "code",
   "execution_count": 37,
   "id": "02aa071c-ca45-4099-92a8-475f41bd95b1",
   "metadata": {},
   "outputs": [
    {
     "name": "stdout",
     "output_type": "stream",
     "text": [
      "(vecindad,1)\n",
      "(bone,92)\n",
      "(glorifying,5)\n",
      "(rollon,1)\n",
      "(folan,1)\n",
      "(nothin,11)\n",
      "(hascreated,1)\n",
      "(festivites,1)\n",
      "(hem,25)\n",
      "(chipset,10)\n"
     ]
    }
   ],
   "source": [
    "globalTermCounts.take(10).foreach(println)"
   ]
  },
  {
   "cell_type": "code",
   "execution_count": 38,
   "id": "513e5386-dd1a-4a65-9dda-bf432c903d4b",
   "metadata": {},
   "outputs": [
    {
     "name": "stdout",
     "output_type": "stream",
     "text": [
      "((vecindad,Office_Product),0.016021134850471113)\n",
      "((vecindad,Electronic),0.11020645691451192)\n",
      "((vecindad,Cell_Phones_and_Accessorie),0.045727676741356194)\n",
      "((vecindad,Tools_and_Home_Improvement),0.025044854335235418)\n",
      "((vecindad,Clothing_Shoes_and_Jewelry),0.07866821197233505)\n",
      "((vecindad,Apps_for_Android),0.034623951191953765)\n",
      "((vecindad,Patio_Lawn_and_Garde),0.012770766489787144)\n",
      "((vecindad,Beauty),0.0263394222257354)\n",
      "((vecindad,Movies_and_TV),16.110905484911143)\n",
      "((vecindad,Grocery_and_Gourmet_Food),0.01672878880390582)\n"
     ]
    },
    {
     "data": {
      "text/plain": [
       "chiSquares: org.apache.spark.rdd.RDD[((String, String), Double)] = MapPartitionsRDD[84] at flatMap at <console>:54\n"
      ]
     },
     "execution_count": 38,
     "metadata": {},
     "output_type": "execute_result"
    }
   ],
   "source": [
    "val chiSquares = termGrouped.flatMap { case (term, catCountsIterable) =>\n",
    "  val catCounts = catCountsIterable.toMap\n",
    "  val df_t = bcGlobalTermCounts.value.getOrElse(term, 0)\n",
    "  val N = bcTotalDocs.value\n",
    "\n",
    "  bcDocsPerCat.value.keys.map { cat =>\n",
    "    val A = catCounts.getOrElse(cat, 0).toDouble\n",
    "    val B = df_t - A\n",
    "    val C = bcDocsPerCat.value(cat) - A\n",
    "    val D = N - A - B - C\n",
    "\n",
    "    val numerator = math.pow((A * D - B * C), 2)\n",
    "    val denominator = (A + C) * (B + D) * (A + B) * (C + D)\n",
    "\n",
    "    val chi2 = if (denominator > 0) N * numerator / denominator else 0.0\n",
    "    ((term, cat), chi2)\n",
    "  }\n",
    "}\n",
    "\n",
    "chiSquares.take(10).foreach(println)\n"
   ]
  },
  {
   "cell_type": "code",
   "execution_count": 39,
   "id": "221997a6-827a-4b97-b94d-0be705d2cdf1",
   "metadata": {},
   "outputs": [
    {
     "name": "stdout",
     "output_type": "stream",
     "text": [
      "<Apps_for_Android> games:3081.1493374842926 play:2158.369406820129 graphics:1505.51089773515 kindle:1470.820942569012 addictive:1311.9055627277771 challenging:1038.1284558527927 coins:1002.6647889526382 addicting:990.8441134974867 fire:956.1470053110604 levels:825.3813282736016 playing:692.9340396014182 ads:642.3969794099202 puzzles:596.7716753070063 apps:548.7810653104153 free:500.9884786241356 bingo:409.2358492981346 mahjong:322.00891943980963 download:303.8649278202287 faotd:288.8577201586641 facebook:282.5170543702901 downloaded:262.77022492215735 hints:242.61029019440056 solitaire:211.6429957838186 android:211.58105849598613 puzzle:198.85582217352504 gameplay:198.5123356770461 freezes:189.67737127837006 unlock:185.7521008338788 played:180.39650447458513 deleted:179.2243589462116 bought:174.4587211734982 flappy:173.30583696524425 upgrades:168.99856742047186 awesome:155.2100816653206 tablet:155.13822220891723 price:149.5959088208227 calculator:148.95756302858823 developer:148.37746519215403 quality:144.19395657092497 permissions:137.37091512558035 author:135.34205354169052 earn:134.7527163155313 bored:131.23190073884672 uninstall:127.29106315507559 sudoku:126.99968483964763 fit:126.10402357270085 years:124.35784441658687 reading:121.65120689569069 made:120.91456375779855 characters:118.09788512184659 gameloft:115.53429315666729 series:115.05716592780018 written:114.84060961362133 addicted:109.65036786251359 crashes:107.3093981107394 brain:106.92909693130997 multiplayer:102.51457697684802 challenge:102.18967874435549 sims:100.44868563758436 uninstalling:100.32193506574053 tetris:99.24357491450239 back:99.12491188526246 glitches:99.02553697390849 end:95.24822201431748 waster:94.22529346826072 crashing:93.68803122186573 downloading:93.54235192211287 size:93.34366680110551 put:91.54071641565497 logos:88.26571319760414 minecraft:88.26571319760414 freecell:86.64962060177764 devs:86.64962060177764 glu:86.64962060177764 pou:86.64962060177764\n",
      "<Automotive> oem:1068.8583585543724 honda:1035.2233546903822 engine:763.2772560433446 vehicle:667.9866189155996 headlights:661.4206245337347 exhaust:627.5001547880793 jeep:613.5399313513781 installed:556.7738877280015 tire:547.3958796305628 headlight:522.1912239048576 toyota:469.6296601687105 factory:415.447649158483 dealer:413.4005822828253 dealership:397.0329781505319 muffler:394.6383917024621 ford:381.6024077213795 wiper:376.08092581619 nissan:370.5218255560827 mats:370.32124504772554 fit:345.0426805309335 wipers:343.56501368487324 dodge:326.5746992956754 bumper:299.239055753451 fuel:294.44877090973023 chevy:285.28128856072595 windshield:284.91743446686905 acdelco:281.8774132495131 crv:281.8774132495131 acura:281.8774132495131 installation:279.50139427978536 gasket:277.61845358187327 gmc:272.0728232278843 camry:272.0728232278843 civic:260.7417976981426 helmet:247.71794633401743 subaru:246.0804536537412 cars:234.63935771177876 kia:233.23698768917063 cab:230.99769731356398 delco:225.49906980759528 detailer:225.49906980759528 meguiar:225.49906980759528 altima:225.49906980759528 hitch:218.43544121717864 trailer:211.04557755085708 wheel:205.89599728484004 atv:198.49885928379243 tranny:198.49885928379243 gaskets:198.49885928379243 passenger:197.6096371916635 decal:196.4494107031424 motorcycle:191.8847049377699 lights:188.03979652363216 torque:180.17195569836852 trucks:180.17195569836852 silverado:178.80499107931 resistor:178.80499107931 integra:178.80499107931 taillight:178.80499107931 alternator:178.80499107931 buick:178.80499107931 filter:175.44221283033875 sealant:172.44966676787274 coupe:172.44966676787274 trunk:169.97397704594812 arnley:169.12215681612378 dorman:169.12215681612378 visors:169.12215681612378 kensun:169.12215681612378 ballasts:169.12215681612378 weathertech:169.12215681612378 mpg:169.12215681612378 steering:163.31262171335004 mirror:160.7276146876078 vehicles:157.3134897321886\n",
      "<Baby> diaper:2429.7403115072902 crib:2411.4696344948743 newborn:1292.0073698880537 seat:1260.4466110602973 pacifiers:1206.4343275012334 carseat:1191.0215686394013 sippy:1171.1733484025158 pacifier:1105.9345674193123 nipple:1049.249885450171 diapers:996.1845009191934 britax:940.4892254976143 strollers:935.7670422052419 infant:923.4099821443248 medela:855.9647060352887 graco:850.6865180469032 babies:797.1193188723603 swaddle:765.6081527447981 avent:765.6081527447981 gate:755.2347875991516 teething:748.5594567503487 teether:680.5319462167581 toddler:634.3393846434815 son:514.3490933279268 highchair:510.386009154223 nursery:499.7942860323845 daughter:497.3941992294572 naps:492.2451032742443 breast:472.91135108223386 bassinet:460.03943209515376 potty:446.34358428488844 tub:441.37996370040725 boppy:435.7665140017469 mam:435.7665140017469 swaddling:425.31627845541243 blanket:415.7605565241346 playtex:412.646443351679 latch:405.4483005373041 nipples:396.93496109808666 bottles:395.7462057889199 bath:393.89977215207455 recline:379.8047942076662 swaddled:379.8047942076662 reclined:352.76989464578253 nuk:340.2487062020367 wubbanub:340.2487062020367 teethers:340.2487062020367 prefolds:340.2487062020367 diapering:340.2487062020367 soothie:340.2487062020367 feeding:339.57120842294927 blankets:324.56777343944964 breastfeeding:317.95992559992453 bib:301.4653506180222 carrier:300.98161842196686 month:291.0959004432785 months:285.3512428134492 toys:283.46827275011935 evenflo:270.6046682092817 outgrew:262.0956385149684 carseats:255.18329231194858 sleepsacks:255.18329231194858 breastfed:255.18329231194858 colicky:255.18329231194858 prefold:255.18329231194858 blankie:255.18329231194858 snugride:255.18329231194858 chicco:255.18329231194858 milk:237.14595983805668 convertible:237.05175844906736 rattle:236.35364504465906 tray:229.65831196476603 burp:224.17919503626678 munchkin:224.17919503626678 chair:223.03489215154514 bottle:215.87435451888405\n",
      "<Beauty> lotion:2313.7342784339085 scent:2300.7926055114713 shampoo:2233.7242780034126 smells:2182.0780322934206 conditioner:1797.8646153277864 dry:1453.0904879492557 smell:1370.4095140091924 fragrance:1346.8212833984028 oily:1308.6093745395115 perfume:1259.9232973347914 moisturizer:1185.9519952563298 curly:1150.5668879425193 acne:1022.6360529571522 greasy:1017.4695571856745 curls:939.6151108198997 makeup:913.7857413157353 polish:901.1625528055326 lashes:848.9130292205318 salon:841.3731824713656 brush:839.5266962799981 mascara:837.6895245628727 frizzy:837.6895245628727 tanning:762.2252497840742 frizz:759.3575076302493 serum:709.3547109818392 cleanser:709.3547109818392 products:693.7560628638117 moisturizing:683.3260989698778 bottle:665.6586867155943 cream:661.4592169294623 scalp:659.0344458929861 cologne:647.1112569768068 nail:625.9648619714136 curl:571.7985302821079 shiny:546.3253526157405 lipstick:542.6932353337339 dryer:536.4007056466745 face:520.4350971448661 perfumes:491.17999881806116 nails:490.2616035870041 shampoos:479.71252882694904 gel:477.76806351234103 comb:470.116522372116 complexion:469.7002539419139 pores:469.7002539419139 fragrances:456.5343422387775 spf:456.5343422387775 opi:455.6660038896612 brushes:441.42788016435316 drying:429.9694320285765 redness:428.2146615632922 straightener:417.68853742618614 curling:399.5317401137107 wavy:398.36256079200433 oil:386.3090161642336 eyelashes:371.4177900866975 moisturized:371.4177900866975 hydrating:343.3810975981534 concealer:341.73649545075574 eyeliner:341.73649545075574 natural:336.2182704474312 silky:335.2169349003186 soap:331.1994106745775 lotions:328.2323986992465 breakouts:323.49815492627897 moisturizers:305.7691539182588 eyeshadow:303.7619198654456 smooth:294.7529011762351 scents:288.05874027584764 bristles:287.2365689163305 tan:286.96725628493226 wash:284.5642821520261 soft:279.2815273826611 sunscreen:279.0383233877897 apply:278.49818307752076\n",
      "<Book> reading:6184.609280406393 author:6181.072186631432 characters:4818.141989312432 written:4300.44930410557 series:2865.618038764103 reader:2786.9501614298065 writing:2431.360517180329 interesting:2380.0993687313166 world:2162.415929145153 enjoyed:2121.4678992128643 pages:2113.488066697305 stories:2048.676778745584 character:1945.4309275034504 history:1784.4417302115994 page:1780.4504695053906 information:1721.403724654109 readers:1500.06797634092 chapter:1451.0070279721824 plot:1359.4764304316277 price:1322.72034868779 authors:1307.1947195304822 quality:1301.5389492714535 people:1238.4627164005806 understand:1129.122824969474 romance:1112.733575393891 chapters:1106.7854770977467 mystery:1047.870258500861 lives:1040.956257308636 writer:1033.4961175536894 fit:1023.0264815717198 novels:1017.885664454523 end:983.3909195063245 loved:978.8521094534831 man:925.7150992666406 learn:921.2367115852654 ending:918.4958990994385 god:917.3200281421858 ideas:897.2673762624403 fiction:893.5782495416662 human:881.5003970638564 relationship:874.0643197400267 understanding:863.3424409381867 subject:844.074763129429 bought:834.3748605349716 war:827.5815445685524 interested:795.3611683727589 young:788.7828367112523 writes:780.9041011897433 finished:780.3430582480397 size:779.9384977213126 historical:773.595991207242 sense:771.6536392959797 family:766.4168090618269 works:752.3845112905689 questions:743.6908889551901 examples:741.9786836602916 knowledge:734.854485032272 text:728.966971632536 interest:726.4900162037235 events:725.3683119780851 recipes:725.2375889705996 published:721.0576993269947 found:719.2751190487941 wait:715.2668556104612 illustrations:701.0611082460483 children:697.2620261294329 journey:693.4014248014738 study:686.9060466576819 forward:685.034485203764 felt:683.6926729675199 reference:679.0282187465759 heart:676.8281276222501 guide:674.5192074657697 personal:666.3171106747213 insight:664.6105964287959\n",
      "<CDs_and_Vinyl> music:13083.770814228063 albums:6705.824908271496 tracks:6516.9526511813565 lyrics:5856.6404116392 listen:5637.042824641422 band:4883.454486644896 rock:4836.65107719276 vocals:4785.881671742037 track:4579.551601051995 listening:3608.8893169330777 heard:3521.927695681777 recording:2912.739693141355 sound:2907.78630898123 voice:2662.9027519247834 quot:2356.9045525498564 record:2343.575420164378 singing:2308.630482084974 musical:2279.9010268785228 sounds:2174.1667152293408 cds:2145.66773284632 recordings:2121.591349053009 vocal:2097.2536675949877 recorded:2061.5758950057634 jazz:2054.7090833309235 singer:2035.6874540280885 disc:2033.5530472404605 tunes:1928.3825401574945 hear:1863.794233300408 solo:1763.5395430046576 sing:1750.7649675232556 bands:1725.7746453087334 blues:1701.7088069824488 catchy:1655.4416805158855 listened:1652.6363546832267 melodies:1580.2384987895555 hits:1574.4388687643448 concert:1531.8708415261194 fan:1519.6174515996677 pop:1474.9521927237763 acoustic:1362.352453314371 instrumental:1353.1690703367008 release:1353.0938331935668 artists:1314.9521252089141 melodic:1309.1253818639516 musicians:1180.1860481080855 fans:1161.650828412309 sings:1160.0892648799145 listener:1153.0809103451222 piano:1139.3404850559652 released:1130.7651625994818 chorus:1112.2763478499132 musically:1103.1968015016014 punk:1098.315840506245 collection:1088.701280781409 arrangements:1078.4490446900472 records:1072.635882803906 ballads:1053.0107788362736 instruments:1030.0515390112005 drums:1020.9524693348452 orchestra:1017.1169147807294 compilation:1011.9228049307077 melody:1006.5299081497088 classic:989.8536719978279 singers:977.1783016847577 songwriting:974.5866446839508 ballad:972.1788304194478 production:966.4280176552816 live:949.0132459012304 bass:937.3849364907217 guitars:919.8356369371011 riffs:906.21338985339 favorite:903.9754989563031 dance:898.8015856342892 soundtrack:891.3555382428913 musicianship:883.9937387123457\n",
      "<Cell_Phones_and_Accessorie> iphone:4184.060130858009 screen:2076.9156186001164 protector:2013.2311534472515 galaxy:1707.0058604736223 charger:1478.3803914321195 otterbox:1443.8732172993973 dropped:1350.922562277761 charge:1308.5684482520035 battery:1093.3804591018752 protects:1061.5945645543875 samsung:1034.3820219626054 protection:981.0748000850737 cases:951.4596108478108 phones:933.7000908116166 fits:868.2795825206535 charging:813.5678277545001 headset:809.3887982182339 htc:754.6985493707166 bluetooth:639.3986163010682 cell:612.9191953657445 verizon:594.9046020898189 nokia:591.2291981721344 buttons:589.1162132190558 otter:545.5992010226344 protectors:533.9857060127321 blackberry:503.8764577234719 bubbles:456.36986023207777 pocket:451.8219467465064 cover:446.76553929297495 droid:429.6209462843271 protective:419.9379789225969 motorola:413.7474451046341 protected:378.3357153540937 fit:376.6107936129632 protect:374.17739525012473 lg:373.99966815127993 headsets:361.84488679162337 stylus:358.39860481127636 rubber:341.9416195642104 bulky:338.32947661848436 charged:310.1950363335703 charges:309.69783860330824 clip:308.95339596596745 edges:304.0765541468515 slim:302.6757714505652 chargers:301.54137555976126 mobile:287.65767755486047 sprint:286.38554759428143 kickstand:281.34040509678954 sim:277.29053681281033 iphones:272.2642707333448 scratches:269.88023042209375 perfectly:269.459576225217 ear:257.8778577338444 drop:247.73777584255163 tpu:240.43682219370976 cracked:239.98781208233012 rubberized:235.2179406387715 gs:222.0878221706073 spigen:218.71489262276762 holster:216.91854859037926 smartphone:214.89161214922308 broke:214.54432087550174 texting:214.27510604967094 unlocked:213.80157041369344 plastic:211.41510087717893 defender:208.61744714275594 grip:207.00442841936882 zagg:206.0495268969946 button:205.5118002451364 lifeproof:205.20765048905855 reading:204.98183973123736 cellphone:203.259494842172 mah:201.81098999868584 usb:195.84791721211664\n",
      "<Clothing_Shoes_and_Jewelry> comfortable:4674.489581798549 shoe:4043.1706227749673 size:3312.666743643411 fit:2736.725184295362 pair:2384.965057039019 shirt:2218.51636616729 boots:2009.972658452664 wearing:1675.0742166084667 dress:1471.86443499236 worn:1405.344418443856 earrings:1392.1844897121102 jeans:1152.0687642727999 sandals:1125.862833839167 feet:1116.950170621598 bra:987.838892559539 bracelet:986.6290609532331 wore:979.465812455821 socks:978.7634666608237 cute:920.6809083016386 necklace:882.9290583842892 compliments:855.4156112637723 heel:849.2096113417068 costume:844.6000500334952 sizing:815.6676604430357 leather:792.7839946947857 pants:785.6730397486165 watches:747.1811214876118 sole:729.3774265974947 fabric:723.457121962488 color:712.5533497874617 comfy:669.6092212105351 toe:660.0322494753542 waist:642.0266849784422 slippers:596.9557682971251 ordered:576.5983770127475 shirts:561.413683788657 fits:553.4301021778658 jewelry:542.6099780594064 foot:540.7666626209736 ring:523.8406709718829 pairs:506.21851252711565 wears:487.3114904708064 leggings:455.2563881268104 sizes:447.7840928208262 sandal:442.38893358903863 tight:437.2157054437743 jacket:419.23832837227894 watch:418.9101637574705 soles:418.31588642804377 arch:417.68397129917474 quality:412.6825949315997 casual:404.5167882456483 boot:402.1027418854715 flattering:395.12714286874495 colors:388.56597501136525 soft:383.90763283306234 warm:378.60306016365297 sneakers:376.35580917519815 stylish:375.4681679961624 pendant:342.85938503471453 outfit:342.38998543419893 characters:336.32531712800596 material:333.9528451565749 reading:330.6719985442559 bras:325.05098337258084 author:312.4261245109279 nice:311.7722188477893 narrow:307.01748516267037 sweater:306.68869738809406 cotton:305.54136345103586 clasp:305.31210216331846 wrist:302.7633883059208 footbed:292.4561772751939 dressy:290.6615793975923 skirt:287.87345809075975\n",
      "<Digital_Music> music:1420.9701784226443 lyrics:892.1972547832194 listen:770.8981422217491 heard:594.0727549824156 albums:579.9119801077379 voice:507.85388061335703 playlist:458.65097352088634 vocals:455.2539761706624 catchy:437.97243899057077 band:379.3193176802213 tracks:347.7517307046464 sing:346.0595336229956 upbeat:344.7817680318219 listening:320.8771662703156 mp:317.3781864581806 rock:314.2669741475781 singing:296.48416240066774 sings:289.37769633983 singer:285.4616982725934 sounds:243.4189647783791 rap:224.49648288471911 artist:221.91278978173278 ballad:217.32612689808002 track:215.7481403017992 radio:210.60061484537425 hear:208.60407871567 sung:201.41045352129302 jazz:199.8153060754906 sound:198.19847301888123 crusin:186.5908584682719 spangled:186.5908584682719 underoath:186.5908584682719 hackett:186.5908584682719 bloops:186.5908584682719 nastradamus:186.5908584682719 listened:186.1556892761928 download:176.2038278783468 tune:166.91316685545723 ep:166.14592549971348 cher:161.45809697067972 drums:155.56219283820505 talented:145.71245801217498 bluesy:144.0990468238278 dance:142.50476291695412 blues:142.27227456136035 artists:142.26519985045928 funk:142.0561926499816 falsetto:136.96609672142438 sounding:135.53957030309581 recording:134.73856044207292 groove:134.56799740749176 soulful:134.27157651847983 indie:125.42747366814855 bands:123.70846750528132 pharrell:123.06567275588536 withers:123.06567275588536 pretenders:123.06567275588536 krall:123.06567275588536 yodeling:123.06567275588536 songstress:123.06567275588536 bleeps:123.06567275588536 musicians:122.10590991611463 listens:121.12425254219617 knopfler:116.55450178576368 lyrically:116.00783044057839 recorded:113.43458544909907 classic:112.90660309331668 record:112.7892878304409 released:109.69331103735986 guitarist:109.47047897741433 rapping:109.26463743549478 vocal:107.827783393694 bonnie:106.52955416705034 chorus:105.58410090727993 favorite:101.42632880732675\n",
      "<Electronic> cable:3380.4712263941155 computer:2636.523561812101 usb:2610.3347176246225 screen:1911.2521143451943 works:1800.7967517594097 tv:1794.473282770537 sound:1725.1478442236955 ipod:1670.6613277738984 hdmi:1665.154069839468 ipad:1649.5760620214326 speakers:1646.5884458082323 keyboard:1606.4562569567552 device:1604.5155547090683 gb:1600.0605573622913 adapter:1566.53078259262 headphones:1485.1412169462176 battery:1462.2082352080863 plug:1399.2440823181378 drive:1296.1422013728115 wireless:1292.6900872344752 tablet:1283.3889354495338 pc:1263.6100915136801 card:1257.536957244357 hd:1224.0863732373782 cables:1201.8090792202372 sony:1199.7277762642052 lens:1134.3431895766353 plugged:1121.2569487473188 software:1065.5936475957424 port:1052.9015428384919 router:1025.796207229896 windows:1010.2589441166464 remote:1000.8451853029336 price:992.6322714757015 unit:973.533904831511 signal:872.1829970084613 canon:868.9540930773559 external:860.9928173517081 player:859.1124823894821 speaker:853.4733461298288 mouse:852.3897285285725 setup:846.7772440481356 audio:837.7800414961101 cord:825.0122678801542 nikon:817.5327258419269 sd:815.0911997433384 apple:790.5107559437594 quality:755.5849156824855 devices:742.7143505562361 lcd:738.1401620915813 cameras:702.0813653147151 desktop:694.442317245423 receiver:676.9282318406249 charger:664.5325396645463 video:651.7498010184105 logitech:639.159246230688 mac:636.1631785557538 antenna:633.0939682739787 gps:630.9123003374875 mp:619.9278968969098 ports:601.6185011226704 installed:589.3554638212293 charge:579.2363134609012 worked:569.1543821236454 asus:565.5681092950884 macbook:555.5547563785545 flash:555.2025600584492 monitor:552.9551185079396 connect:549.5671084197631 zoom:548.7096349806129 power:543.1798534132197 files:536.6152960905599 portable:536.5973189580163 bluetooth:529.4762609851883 mode:510.5994497970935\n"
     ]
    },
    {
     "data": {
      "text/plain": [
       "byCategory: org.apache.spark.rdd.RDD[(String, (Double, String))] = MapPartitionsRDD[85] at map at <console>:53\n",
       "top75PerCategory: List[(String, Seq[(Double, String)])] = List((Apps_for_Android,List((3081.1493374842926,games), (2158.369406820129,play), (1505.51089773515,graphics), (1470.820942569012,kindle), (1311.9055627277771,addictive), (1038.1284558527927,challenging), (1002.6647889526382,coins), (990.8441134974867,addicting), (956.1470053110604,fire), (825.3813282736016,levels), (692.9340396014182,playing), (642.3969794099202,ads), (596.7716753070063,puzzles), (548.7810653104153,apps), (500.9884786241356,free), (409.2358492981346,bingo), (322.00891943980963,mahjong), (303.8649278202287,download), (288.8577201586641,faotd), (282.5170543702901,facebook), (262.77022492215735,downloaded)...\n"
      ]
     },
     "execution_count": 39,
     "metadata": {},
     "output_type": "execute_result"
    }
   ],
   "source": [
    "val byCategory = chiSquares.map { case ((term, category), chi2) =>\n",
    "  (category, (chi2, term))\n",
    "}\n",
    "\n",
    "val top75PerCategory = byCategory\n",
    "  .groupByKey() \n",
    "  .mapValues { iter =>\n",
    "    iter.toSeq.sortBy(-_._1).take(75)  \n",
    "  }\n",
    "  .collect()  \n",
    "  .toList  \n",
    "  .sortBy(_._1) \n",
    "\n",
    "val formatted = top75PerCategory.map { case (category, topTerms) =>\n",
    "  val termsStr = topTerms.map { case (chi2, term) => s\"$term:$chi2\" }.mkString(\" \")\n",
    "  s\"<$category> $termsStr\"\n",
    "}\n",
    "\n",
    "formatted.take(10).foreach(println)\n",
    "\n",
    "val allTerms = top75PerCategory.flatMap { case (_, topTerms) =>\n",
    "  topTerms.map { case (_, term) => term }\n",
    "}.distinct.sorted  \n"
   ]
  },
  {
   "cell_type": "code",
   "execution_count": 40,
   "id": "949e6b4d-087b-4ad9-aa22-d094a8b6d66c",
   "metadata": {},
   "outputs": [
    {
     "data": {
      "text/plain": [
       "import java.io._\n",
       "file: java.io.File = output_rdd.txt\n",
       "bw: java.io.BufferedWriter = java.io.BufferedWriter@518eae80\n"
      ]
     },
     "execution_count": 40,
     "metadata": {},
     "output_type": "execute_result"
    }
   ],
   "source": [
    "import java.io._\n",
    "val file = new File(\"output_rdd.txt\")\n",
    "val bw = new BufferedWriter(new FileWriter(file))\n",
    "\n",
    "formatted.foreach { line =>\n",
    "  bw.write(line + \"\\n\")\n",
    "}\n",
    "\n",
    "bw.write(allTerms.mkString(\" \"))\n",
    "bw.close()\n"
   ]
  },
  {
   "cell_type": "code",
   "execution_count": null,
   "id": "140691a7-d97c-4a83-95ed-02e77601b902",
   "metadata": {},
   "outputs": [],
   "source": []
  }
 ],
 "metadata": {
  "kernelspec": {
   "display_name": "spylon-kernel",
   "language": "scala",
   "name": "spylon-kernel"
  },
  "language_info": {
   "codemirror_mode": "text/x-scala",
   "file_extension": ".scala",
   "help_links": [
    {
     "text": "MetaKernel Magics",
     "url": "https://metakernel.readthedocs.io/en/latest/source/README.html"
    }
   ],
   "mimetype": "text/x-scala",
   "name": "scala",
   "pygments_lexer": "scala",
   "version": "0.4.1"
  }
 },
 "nbformat": 4,
 "nbformat_minor": 5
}
